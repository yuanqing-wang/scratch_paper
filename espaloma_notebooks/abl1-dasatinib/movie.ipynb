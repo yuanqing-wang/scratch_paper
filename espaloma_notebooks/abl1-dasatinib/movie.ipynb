{
 "cells": [
  {
   "cell_type": "code",
   "execution_count": 5,
   "id": "a3426bb5",
   "metadata": {},
   "outputs": [],
   "source": [
    "import parmed\n",
    "import mdtraj"
   ]
  },
  {
   "cell_type": "code",
   "execution_count": 7,
   "id": "59fabe83",
   "metadata": {},
   "outputs": [],
   "source": [
    "protein_structure = parmed.load_file(\"protein.pdb\")\n",
    "ligand_structure = parmed.load_file(\"ligand.pdb\")\n",
    "complex_structure = protein_structure + ligand_structure\n",
    "complex_structure.save(\"complex_structure.pdb\")"
   ]
  },
  {
   "cell_type": "code",
   "execution_count": 11,
   "id": "71299a8b",
   "metadata": {},
   "outputs": [],
   "source": [
    "complex_traj = mdtraj.load(\"complex_structure.pdb\")\n",
    "movie_traj = mdtraj.load(\"out.pdb\")"
   ]
  },
  {
   "cell_type": "code",
   "execution_count": 12,
   "id": "9b8fb48e",
   "metadata": {},
   "outputs": [],
   "source": [
    "complex_traj.xyz = movie_traj.xyz"
   ]
  },
  {
   "cell_type": "code",
   "execution_count": 14,
   "id": "0611db23",
   "metadata": {},
   "outputs": [],
   "source": [
    "complex_traj.save_pdb(\"movie.pdb\")"
   ]
  },
  {
   "cell_type": "code",
   "execution_count": null,
   "id": "5092afb0",
   "metadata": {},
   "outputs": [],
   "source": []
  }
 ],
 "metadata": {
  "kernelspec": {
   "display_name": "Python 3",
   "language": "python",
   "name": "python3"
  },
  "language_info": {
   "codemirror_mode": {
    "name": "ipython",
    "version": 3
   },
   "file_extension": ".py",
   "mimetype": "text/x-python",
   "name": "python",
   "nbconvert_exporter": "python",
   "pygments_lexer": "ipython3",
   "version": "3.7.10"
  }
 },
 "nbformat": 4,
 "nbformat_minor": 5
}

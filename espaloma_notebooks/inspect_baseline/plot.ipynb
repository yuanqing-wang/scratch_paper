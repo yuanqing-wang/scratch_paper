{
 "cells": [
  {
   "cell_type": "code",
   "execution_count": 1,
   "id": "a1ddbea5",
   "metadata": {},
   "outputs": [
    {
     "name": "stderr",
     "output_type": "stream",
     "text": [
      "Warning: importing 'simtk.openmm' is deprecated.  Import 'openmm' instead.\n",
      "Warning: Unable to load toolkit 'OpenEye Toolkit'. The Open Force Field Toolkit does not require the OpenEye Toolkits, and can use RDKit/AmberTools instead. However, if you have a valid license for the OpenEye Toolkits, consider installing them for faster performance and additional file format support: https://docs.eyesopen.com/toolkits/python/quickstart-python/linuxosx.html OpenEye offers free Toolkit licenses for academics: https://www.eyesopen.com/academic-licensing\n"
     ]
    }
   ],
   "source": [
    "import torch\n",
    "import espaloma as esp\n"
   ]
  },
  {
   "cell_type": "code",
   "execution_count": 38,
   "id": "84bb1a99",
   "metadata": {},
   "outputs": [],
   "source": [
    "g = esp.Graph.load(\"mols_with_high_rmse/1\")"
   ]
  },
  {
   "cell_type": "code",
   "execution_count": 39,
   "id": "2dfce374",
   "metadata": {},
   "outputs": [],
   "source": [
    "def view(idx):\n",
    "    from rdkit.Geometry import Point3D\n",
    "    from rdkit import Chem\n",
    "    from rdkit.Chem import AllChem\n",
    "    import py3Dmol\n",
    "\n",
    "    mol = g.mol.to_rdkit()\n",
    "    AllChem.EmbedMultipleConfs(mol, numConfs=1)\n",
    "    conf = mol.GetConformer(0)\n",
    "    for i in range(mol.GetNumAtoms()):\n",
    "        x,y,z = g.nodes['n1'].data['xyz'].double().detach().numpy()[i, idx]\n",
    "        conf.SetAtomPosition(i, Point3D(x,y,z))\n",
    "    mblock = Chem.MolToMolBlock(mol)\n",
    "    viewer = py3Dmol.view(600, 600)\n",
    "    viewer.clear()\n",
    "    viewer.addModel(mblock, 'mol')\n",
    "    viewer.setStyle(\"stick\")\n",
    "    viewer.zoomTo()\n",
    "    viewer.show()\n",
    "    \n"
   ]
  },
  {
   "cell_type": "code",
   "execution_count": 40,
   "id": "2c744608",
   "metadata": {},
   "outputs": [
    {
     "data": {
      "application/vnd.jupyter.widget-view+json": {
       "model_id": "a07f9c394b5f4c4e8582df3aa9bccfd3",
       "version_major": 2,
       "version_minor": 0
      },
      "text/plain": [
       "interactive(children=(IntSlider(value=0, description='idx', max=40), Output()), _dom_classes=('widget-interact…"
      ]
     },
     "metadata": {},
     "output_type": "display_data"
    },
    {
     "data": {
      "text/plain": [
       "<function __main__.view(idx)>"
      ]
     },
     "execution_count": 40,
     "metadata": {},
     "output_type": "execute_result"
    }
   ],
   "source": [
    "from ipywidgets import interact,fixed,IntSlider\n",
    "\n",
    "interact(view, idx=IntSlider(min=0, max=40, step=1))"
   ]
  },
  {
   "cell_type": "code",
   "execution_count": 41,
   "id": "8ec647c0",
   "metadata": {},
   "outputs": [
    {
     "data": {
      "text/plain": [
       "<espaloma.graphs.graph.Graph at 0x7f971ff36610>"
      ]
     },
     "execution_count": 41,
     "metadata": {},
     "output_type": "execute_result"
    }
   ],
   "source": [
    "ff = esp.graphs.legacy_force_field.LegacyForceField()\n",
    "ff.typing(g)"
   ]
  },
  {
   "cell_type": "code",
   "execution_count": 42,
   "id": "39d81aae",
   "metadata": {},
   "outputs": [
    {
     "name": "stdout",
     "output_type": "stream",
     "text": [
      "['cc', 'cc', 'c', 'n2', 'n2', 'na', 'na', 'n', 'na', 'o', 'os', 'h4', 'h4', 'hn', 'hn']\n"
     ]
    }
   ],
   "source": [
    "print([ff._idx_2_str[t.item()] for t in g.nodes['n1'].data['legacy_typing']])"
   ]
  },
  {
   "cell_type": "code",
   "execution_count": 43,
   "id": "50827954",
   "metadata": {},
   "outputs": [
    {
     "data": {
      "image/png": "[encoded data removed]",
      "text/plain": [
       "<rdkit.Chem.rdchem.Mol at 0x7f972054bf70>"
      ]
     },
     "metadata": {},
     "output_type": "display_data"
    }
   ],
   "source": [
    "g.mol"
   ]
  },
  {
   "cell_type": "code",
   "execution_count": null,
   "id": "37239573",
   "metadata": {},
   "outputs": [],
   "source": []
  }
 ],
 "metadata": {
  "kernelspec": {
   "display_name": "Python 3",
   "language": "python",
   "name": "python3"
  },
  "language_info": {
   "codemirror_mode": {
    "name": "ipython",
    "version": 3
   },
   "file_extension": ".py",
   "mimetype": "text/x-python",
   "name": "python",
   "nbconvert_exporter": "python",
   "pygments_lexer": "ipython3",
   "version": "3.7.10"
  }
 },
 "nbformat": 4,
 "nbformat_minor": 5
}

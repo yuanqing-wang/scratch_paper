{
 "cells": [
  {
   "cell_type": "code",
   "execution_count": 3,
   "metadata": {},
   "outputs": [],
   "source": [
    "import numpy as np"
   ]
  },
  {
   "cell_type": "code",
   "execution_count": 4,
   "metadata": {},
   "outputs": [],
   "source": [
    "cpu_parametrization_ts = []\n",
    "cpu_call_ts = []\n",
    "\n",
    "for idx in range(1, 51):\n",
    "    idx = 10 * idx\n",
    "    parametrization_t, call_t = np.load(\"times_cpu/%s.npy\" % idx)\n",
    "    cpu_parametrization_ts.append(parametrization_t)\n",
    "    cpu_call_ts.append(call_t)\n",
    "    \n",
    "cpu_parametrization_ts = np.array(cpu_parametrization_ts)\n",
    "cpu_call_ts = np.array(cpu_call_ts)"
   ]
  },
  {
   "cell_type": "code",
   "execution_count": 7,
   "metadata": {},
   "outputs": [],
   "source": [
    "gpu_parametrization_ts = []\n",
    "gpu_call_ts = []\n",
    "\n",
    "for idx in range(1, 51):\n",
    "    idx = 10 * idx\n",
    "    parametrization_t, call_t = np.load(\"times_gpu/%s.npy\" % idx)\n",
    "    gpu_parametrization_ts.append(parametrization_t)\n",
    "    gpu_call_ts.append(call_t)\n",
    "    \n",
    "gpu_parametrization_ts = np.array(gpu_parametrization_ts)\n",
    "gpu_call_ts = np.array(gpu_call_ts)"
   ]
  },
  {
   "cell_type": "code",
   "execution_count": 38,
   "metadata": {},
   "outputs": [
    {
     "name": "stderr",
     "output_type": "stream",
     "text": [
      "/Users/wangy1/anaconda3/envs/esp/lib/python3.7/site-packages/ipykernel_launcher.py:29: UserWarning: Attempted to set non-positive bottom ylim on a log-scaled axis.\n",
      "Invalid limit will be ignored.\n"
     ]
    },
    {
     "data": {
      "text/plain": [
       "<Figure size 288x144 with 0 Axes>"
      ]
     },
     "metadata": {},
     "output_type": "display_data"
    },
    {
     "data": {
      "image/png": "[encoded data removed]",
      "text/plain": [
       "<Figure size 288x144 with 2 Axes>"
      ]
     },
     "metadata": {
      "needs_background": "light"
     },
     "output_type": "display_data"
    }
   ],
   "source": [
    "from matplotlib import pyplot as plt\n",
    "plt.figure(figsize=(4, 2))\n",
    "from matplotlib import rcParams\n",
    "rcParams['font.family'] = 'sans-serif'\n",
    "rcParams['font.sans-serif'] = ['Helvetica']\n",
    "\n",
    "fig, axs = plt.subplots(1, 2, figsize=(4, 2), sharex=True)\n",
    "\n",
    "axs[0].plot(np.arange(1, 51) * 10, 1000.0 * cpu_parametrization_ts, label=\"parametrization\")\n",
    "axs[0].plot(np.arange(1, 51) * 10, 1000.0 * cpu_call_ts, label=\"energy evaluation\")\n",
    "\n",
    "axs[1].plot(np.arange(1, 51) * 10, 1000.0 * gpu_parametrization_ts, label=\"param\")\n",
    "axs[1].plot(np.arange(1, 51) * 10, 1000.0 * gpu_call_ts, label=\"eval\")\n",
    "\n",
    "axs[0].set_xlabel(\"number of residues\")\n",
    "axs[1].set_xlabel(\"number of residues\")\n",
    "axs[0].set_ylabel(\"time (ms)\")\n",
    "\n",
    "axs[0].set_xticks([0, 250, 500])\n",
    "axs[1].set_xticks([0, 250, 500])\n",
    "\n",
    "axs[0].set_title(\"CPU\")\n",
    "axs[1].set_title(\"GPU\")\n",
    "\n",
    "axs[1].legend()\n",
    "\n",
    "axs[0].set_ylim(0, 1000)\n",
    "axs[1].set_yscale(\"log\")\n",
    "axs[1].set_ylim(0, 100)\n",
    "plt.tight_layout()\n",
    "plt.savefig(\"time.png\", dpi=300)"
   ]
  },
  {
   "cell_type": "code",
   "execution_count": 29,
   "metadata": {},
   "outputs": [
    {
     "data": {
      "text/plain": [
       "list"
      ]
     },
     "execution_count": 29,
     "metadata": {},
     "output_type": "execute_result"
    }
   ],
   "source": [
    "type(gpu_call_ts)"
   ]
  },
  {
   "cell_type": "code",
   "execution_count": null,
   "metadata": {},
   "outputs": [],
   "source": []
  }
 ],
 "metadata": {
  "kernelspec": {
   "display_name": "Python 3",
   "language": "python",
   "name": "python3"
  },
  "language_info": {
   "codemirror_mode": {
    "name": "ipython",
    "version": 3
   },
   "file_extension": ".py",
   "mimetype": "text/x-python",
   "name": "python",
   "nbconvert_exporter": "python",
   "pygments_lexer": "ipython3",
   "version": "3.7.6"
  }
 },
 "nbformat": 4,
 "nbformat_minor": 5
}

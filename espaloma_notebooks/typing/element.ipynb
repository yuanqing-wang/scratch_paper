{
 "cells": [
  {
   "cell_type": "code",
   "execution_count": 16,
   "id": "attended-integer",
   "metadata": {},
   "outputs": [],
   "source": [
    "import numpy as np\n",
    "import torch\n",
    "import espaloma as esp"
   ]
  },
  {
   "cell_type": "code",
   "execution_count": 2,
   "id": "bronze-superintendent",
   "metadata": {},
   "outputs": [],
   "source": [
    "ds = esp.data.dataset.GraphDataset.load(\"zinc_param\")"
   ]
  },
  {
   "cell_type": "code",
   "execution_count": 25,
   "id": "active-campus",
   "metadata": {},
   "outputs": [
    {
     "data": {
      "text/plain": [
       "752"
      ]
     },
     "execution_count": 25,
     "metadata": {},
     "output_type": "execute_result"
    }
   ],
   "source": [
    "len(ds)"
   ]
  },
  {
   "cell_type": "code",
   "execution_count": 3,
   "id": "advisory-theory",
   "metadata": {},
   "outputs": [
    {
     "name": "stderr",
     "output_type": "stream",
     "text": [
      "/Users/wangy1/anaconda3/envs/esp/lib/python3.7/site-packages/dgl/base.py:45: DGLWarning: From v0.5, DGLHeteroGraph is merged into DGLGraph. You can safely replace dgl.batch_hetero with dgl.batch\n",
      "  return warnings.warn(message, category=category, stacklevel=1)\n"
     ]
    }
   ],
   "source": [
    "g = next(iter(ds.view(batch_size=len(ds))))"
   ]
  },
  {
   "cell_type": "code",
   "execution_count": 24,
   "id": "manual-blend",
   "metadata": {},
   "outputs": [
    {
     "name": "stdout",
     "output_type": "stream",
     "text": [
      "1 40.644\n",
      "6 41.722\n",
      "7 9.590\n",
      "8 5.953\n",
      "9 0.335\n",
      "16 1.449\n",
      "17 0.261\n",
      "35 0.041\n",
      "53 0.005\n"
     ]
    }
   ],
   "source": [
    "elements = g.nodes['n1'].data['h0'][:, :100].argmax(dim=1).detach().numpy()\n",
    "unique, counts = np.unique(elements, return_counts=True)\n",
    "counts = counts / sum(counts)\n",
    "for x, y in zip(unique, counts):\n",
    "    print(x, \"%.3f\" % (y * 100))"
   ]
  },
  {
   "cell_type": "code",
   "execution_count": 21,
   "id": "fifth-recovery",
   "metadata": {},
   "outputs": [
    {
     "name": "stdout",
     "output_type": "stream",
     "text": [
      "{1: 0.40643918547055585, 6: 0.4172170243991928, 7: 0.09589983489268024, 8: 0.05953036140157769, 9: 0.0033480095395340306, 16: 0.014492753623188406, 17: 0.0026141992294991746, 35: 0.0004127682993946065, 53: 4.58631443771785e-05}\n"
     ]
    }
   ],
   "source": [
    "print(dict(zip(unique, counts)))"
   ]
  },
  {
   "cell_type": "code",
   "execution_count": null,
   "id": "french-mortgage",
   "metadata": {},
   "outputs": [],
   "source": []
  }
 ],
 "metadata": {
  "kernelspec": {
   "display_name": "Python 3",
   "language": "python",
   "name": "python3"
  },
  "language_info": {
   "codemirror_mode": {
    "name": "ipython",
    "version": 3
   },
   "file_extension": ".py",
   "mimetype": "text/x-python",
   "name": "python",
   "nbconvert_exporter": "python",
   "pygments_lexer": "ipython3",
   "version": "3.7.10"
  }
 },
 "nbformat": 4,
 "nbformat_minor": 5
}

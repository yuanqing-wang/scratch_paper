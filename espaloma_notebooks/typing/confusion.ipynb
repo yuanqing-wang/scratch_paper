{
 "cells": [
  {
   "cell_type": "code",
   "execution_count": 1,
   "id": "clinical-generation",
   "metadata": {},
   "outputs": [
    {
     "name": "stderr",
     "output_type": "stream",
     "text": [
      "Using backend: pytorch\n",
      "Warning: Unable to load toolkit 'OpenEye Toolkit'. The Open Force Field Toolkit does not require the OpenEye Toolkits, and can use RDKit/AmberTools instead. However, if you have a valid license for the OpenEye Toolkits, consider installing them for faster performance and additional file format support: https://docs.eyesopen.com/toolkits/python/quickstart-python/linuxosx.html OpenEye offers free Toolkit licenses for academics: https://www.eyesopen.com/academic-licensing\n"
     ]
    }
   ],
   "source": [
    "import numpy as np\n",
    "import torch\n",
    "import espaloma as esp"
   ]
  },
  {
   "cell_type": "code",
   "execution_count": 65,
   "id": "guided-concentrate",
   "metadata": {},
   "outputs": [],
   "source": [
    "ds = esp.data.dataset.GraphDataset.load(\"zinc_param\")"
   ]
  },
  {
   "cell_type": "code",
   "execution_count": 66,
   "id": "367995d8",
   "metadata": {},
   "outputs": [
    {
     "data": {
      "text/plain": [
       "752"
      ]
     },
     "execution_count": 66,
     "metadata": {},
     "output_type": "execute_result"
    }
   ],
   "source": [
    "len(ds)"
   ]
  },
  {
   "cell_type": "code",
   "execution_count": 49,
   "id": "alternate-burlington",
   "metadata": {},
   "outputs": [],
   "source": [
    "# define a layer\n",
    "layer = esp.nn.layers.dgl_legacy.gn(\"SAGEConv\")\n",
    "\n",
    "# define a representation\n",
    "representation = esp.nn.Sequential(\n",
    "        layer,\n",
    "        [128, \"relu\", 128, \"relu\", 128, \"relu\"],\n",
    ")\n",
    "\n",
    "# define a readout\n",
    "readout = esp.nn.readout.node_typing.NodeTyping(\n",
    "        in_features=128,\n",
    "        n_classes=100\n",
    ") # not too many elements here I think?\n",
    "\n",
    "net = torch.nn.Sequential(\n",
    "    representation,\n",
    "    readout\n",
    ")"
   ]
  },
  {
   "cell_type": "code",
   "execution_count": 50,
   "id": "proud-hypothetical",
   "metadata": {},
   "outputs": [
    {
     "data": {
      "text/plain": [
       "<All keys matched successfully>"
      ]
     },
     "execution_count": 50,
     "metadata": {},
     "output_type": "execute_result"
    }
   ],
   "source": [
    "net.load_state_dict(\n",
    "    torch.load(\n",
    "        \"results/net1300.th\"\n",
    "    )\n",
    ")"
   ]
  },
  {
   "cell_type": "code",
   "execution_count": 51,
   "id": "4b8086ac",
   "metadata": {},
   "outputs": [
    {
     "name": "stdout",
     "output_type": "stream",
     "text": [
      "0.f_in.0.weight\n",
      "0.f_in.0.bias\n",
      "0._sequential.d0.gn.bias\n",
      "0._sequential.d0.gn.fc_self.weight\n",
      "0._sequential.d0.gn.fc_neigh.weight\n",
      "0._sequential.d2.gn.bias\n",
      "0._sequential.d2.gn.fc_self.weight\n",
      "0._sequential.d2.gn.fc_neigh.weight\n",
      "0._sequential.d4.gn.bias\n",
      "0._sequential.d4.gn.fc_self.weight\n",
      "0._sequential.d4.gn.fc_neigh.weight\n",
      "1.c.weight\n",
      "1.c.bias\n"
     ]
    }
   ],
   "source": [
    "for name, param in net.named_parameters():\n",
    "    print(name)"
   ]
  },
  {
   "cell_type": "code",
   "execution_count": 52,
   "id": "17fb4ec2",
   "metadata": {},
   "outputs": [
    {
     "data": {
      "text/plain": [
       "'0.6.1'"
      ]
     },
     "execution_count": 52,
     "metadata": {},
     "output_type": "execute_result"
    }
   ],
   "source": [
    "import dgl\n",
    "dgl.__version__"
   ]
  },
  {
   "cell_type": "code",
   "execution_count": 53,
   "id": "79a99197",
   "metadata": {},
   "outputs": [
    {
     "data": {
      "text/plain": [
       "['0.f_in.0.weight',\n",
       " '0.f_in.0.bias',\n",
       " '0._sequential.d0.gn.bias',\n",
       " '0._sequential.d0.gn.fc_self.weight',\n",
       " '0._sequential.d0.gn.fc_neigh.weight',\n",
       " '0._sequential.d2.gn.bias',\n",
       " '0._sequential.d2.gn.fc_self.weight',\n",
       " '0._sequential.d2.gn.fc_neigh.weight',\n",
       " '0._sequential.d4.gn.bias',\n",
       " '0._sequential.d4.gn.fc_self.weight',\n",
       " '0._sequential.d4.gn.fc_neigh.weight',\n",
       " '1.c.weight',\n",
       " '1.c.bias']"
      ]
     },
     "execution_count": 53,
     "metadata": {},
     "output_type": "execute_result"
    }
   ],
   "source": [
    "list(\n",
    "    torch.load(\n",
    "        \"results/net1300.th\"\n",
    "    ).keys()\n",
    ")"
   ]
  },
  {
   "cell_type": "code",
   "execution_count": 54,
   "id": "electronic-glance",
   "metadata": {},
   "outputs": [
    {
     "name": "stderr",
     "output_type": "stream",
     "text": [
      "/Users/wangy1/anaconda3/envs/esp/lib/python3.7/site-packages/dgl/base.py:45: DGLWarning: From v0.5, DGLHeteroGraph is merged into DGLGraph. You can safely replace dgl.batch_hetero with dgl.batch\n",
      "  return warnings.warn(message, category=category, stacklevel=1)\n"
     ]
    }
   ],
   "source": [
    "g = next(iter(ds.view(batch_size=len(ds))))"
   ]
  },
  {
   "cell_type": "code",
   "execution_count": 55,
   "id": "defensive-dream",
   "metadata": {},
   "outputs": [
    {
     "name": "stderr",
     "output_type": "stream",
     "text": [
      "/Users/wangy1/anaconda3/envs/esp/lib/python3.7/site-packages/dgl/base.py:45: DGLWarning: dgl.to_homo is deprecated. Please use dgl.to_homogeneous\n",
      "  return warnings.warn(message, category=category, stacklevel=1)\n"
     ]
    }
   ],
   "source": [
    "g = net(g)"
   ]
  },
  {
   "cell_type": "code",
   "execution_count": 56,
   "id": "collective-longer",
   "metadata": {},
   "outputs": [],
   "source": [
    "idx_2_str = esp.graphs.legacy_force_field.LegacyForceField(\"gaff-1.81\")._idx_2_str"
   ]
  },
  {
   "cell_type": "code",
   "execution_count": 57,
   "id": "fitting-article",
   "metadata": {},
   "outputs": [],
   "source": [
    "y_pred = g.nodes['n1'].data['nn_typing'].argmax(dim=-1)\n",
    "y_true = g.nodes['n1'].data['legacy_typing']"
   ]
  },
  {
   "cell_type": "code",
   "execution_count": 58,
   "id": "alternate-baltimore",
   "metadata": {},
   "outputs": [],
   "source": [
    "y_pred = [idx_2_str[idx.item()] for idx in y_pred]\n",
    "y_true = [idx_2_str[idx.item()]for idx in y_true]"
   ]
  },
  {
   "cell_type": "code",
   "execution_count": 59,
   "id": "cloudy-paint",
   "metadata": {},
   "outputs": [],
   "source": [
    "pairs = list(zip(y_true, y_pred))"
   ]
  },
  {
   "cell_type": "code",
   "execution_count": 60,
   "id": "chemical-toronto",
   "metadata": {},
   "outputs": [],
   "source": [
    "cs = [\"c\", \"c1\", \"c2\", \"c3\", \"ca\", \"cc\", \"cp\", \"ce\"]\n",
    "idx_2_str_c = dict(zip(range(len(cs)), cs))\n",
    "str_2_idx_c = dict(zip(cs, range(len(cs))))\n",
    "pairs = [pair for pair in pairs if pair[0] in cs and pair[1] in cs]"
   ]
  },
  {
   "cell_type": "code",
   "execution_count": 61,
   "id": "subject-eagle",
   "metadata": {},
   "outputs": [],
   "source": [
    "confusion = np.zeros((len(cs), len(cs)))\n",
    "for x, y in pairs:\n",
    "    confusion[\n",
    "        str_2_idx_c[x], str_2_idx_c[y]\n",
    "    ] += 1\n",
    "confusion /= confusion.sum(axis=0, keepdims=True)\n",
    "confusion *= 100\n",
    "confusion[confusion == 0] = np.nan"
   ]
  },
  {
   "cell_type": "code",
   "execution_count": 62,
   "id": "fourth-andorra",
   "metadata": {},
   "outputs": [],
   "source": [
    "abundance = {c: 0 for c in cs}\n",
    "for x, y in pairs:\n",
    "    if x in cs:\n",
    "        abundance[x] += 1\n",
    "\n",
    "abundance = {key: value / len(pairs) for key, value in abundance.items()}"
   ]
  },
  {
   "cell_type": "code",
   "execution_count": 63,
   "id": "c064d8fc",
   "metadata": {},
   "outputs": [
    {
     "data": {
      "text/plain": [
       "8046"
      ]
     },
     "execution_count": 63,
     "metadata": {},
     "output_type": "execute_result"
    }
   ],
   "source": [
    "len(pairs)"
   ]
  },
  {
   "cell_type": "code",
   "execution_count": 64,
   "id": "unknown-bristol",
   "metadata": {},
   "outputs": [
    {
     "data": {
      "image/png": "[encoded data removed]",
      "text/plain": [
       "<Figure size 360x360 with 1 Axes>"
      ]
     },
     "metadata": {},
     "output_type": "display_data"
    }
   ],
   "source": [
    "import seaborn as sns\n",
    "from matplotlib import pyplot as plt\n",
    "fig = plt.figure(figsize=(5, 5))\n",
    "sns.set_style(\"dark\")\n",
    "sns.heatmap(\n",
    "    confusion, \n",
    "    linewidths=.5, \n",
    "    annot=True, \n",
    "    fmt=\".1f\",\n",
    "    xticklabels=[\"%s \\n%.1f\" % (c, abundance[c] * 100) for c in str_2_idx_c.keys()],\n",
    "    yticklabels=str_2_idx_c.keys(),\n",
    "    cmap=sns.cubehelix_palette(start=.5, rot=-.5,as_cmap=True2),\n",
    "    cbar=False,\n",
    ")\n",
    "plt.savefig(\"wrongs.png\", dpi=300)\n"
   ]
  },
  {
   "cell_type": "code",
   "execution_count": null,
   "id": "alleged-companion",
   "metadata": {},
   "outputs": [],
   "source": []
  }
 ],
 "metadata": {
  "kernelspec": {
   "display_name": "Python 3",
   "language": "python",
   "name": "python3"
  },
  "language_info": {
   "codemirror_mode": {
    "name": "ipython",
    "version": 3
   },
   "file_extension": ".py",
   "mimetype": "text/x-python",
   "name": "python",
   "nbconvert_exporter": "python",
   "pygments_lexer": "ipython3",
   "version": "3.7.10"
  }
 },
 "nbformat": 4,
 "nbformat_minor": 5
}

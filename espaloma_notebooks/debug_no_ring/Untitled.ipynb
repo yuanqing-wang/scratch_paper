{
 "cells": [
  {
   "cell_type": "code",
   "execution_count": 70,
   "id": "6e0fccef",
   "metadata": {},
   "outputs": [
    {
     "data": {
      "text/plain": [
       "<All keys matched successfully>"
      ]
     },
     "execution_count": 70,
     "metadata": {},
     "output_type": "execute_result"
    }
   ],
   "source": [
    "import argparse\n",
    "import os\n",
    "\n",
    "import numpy as np\n",
    "import torch\n",
    "\n",
    "import espaloma as esp\n",
    "\n",
    "\n",
    "# layer\n",
    "layer = esp.nn.layers.dgl_legacy.gn(\"SAGEConv\")\n",
    "\n",
    "# representation\n",
    "representation = esp.nn.Sequential(layer, config=[128, \"relu\", 128, \"relu\", 128, \"relu\"])\n",
    "janossy_config = [128, \"relu\", 128, \"relu\", 128, \"relu\", 128, \"relu\"]\n",
    "readout = esp.nn.readout.janossy.JanossyPooling(\n",
    "    in_features=128, config=janossy_config,\n",
    "    out_features={\n",
    "            2: {'log_coefficients': 2},\n",
    "            3: {'log_coefficients': 2},\n",
    "            4: {'k': 6},\n",
    "    },\n",
    ")\n",
    "\n",
    "readout_improper = esp.nn.readout.janossy.JanossyPoolingImproper(\n",
    "    in_features=128, config=janossy_config\n",
    ")\n",
    "\n",
    "class ExpCoeff(torch.nn.Module):\n",
    "    def forward(self, g):\n",
    "        import math\n",
    "        g.nodes['n2'].data['coefficients'] = g.nodes['n2'].data['log_coefficients'].exp()\n",
    "        g.nodes['n3'].data['coefficients'] = g.nodes['n3'].data['log_coefficients'].exp()\n",
    "\n",
    "        g.nodes['n2'].data['k'], g.nodes['n2'].data['eq'] = esp.mm.functional.linear_mixture_to_original(\n",
    "            g.nodes['n2'].data['coefficients'][:, 0][:, None],\n",
    "            g.nodes['n2'].data['coefficients'][:, 1][:, None],\n",
    "            1.5, 6.0,\n",
    "        )\n",
    "\n",
    "        g.nodes['n3'].data['k'], g.nodes['n3'].data['eq'] = esp.mm.functional.linear_mixture_to_original(\n",
    "            g.nodes['n3'].data['coefficients'][:, 0][:, None],\n",
    "            g.nodes['n3'].data['coefficients'][:, 1][:, None],\n",
    "            0.0, math.pi\n",
    "        )\n",
    "        \n",
    "        g.nodes['n2'].data.pop('coefficients')\n",
    "        g.nodes['n3'].data.pop('coefficients')\n",
    "\n",
    "\n",
    "\n",
    "        return g\n",
    "\n",
    "class GetLoss(torch.nn.Module):\n",
    "    def forward(self, g):\n",
    "        return torch.nn.MSELoss()(\n",
    "            g.nodes['g'].data['u'] - g.nodes['g'].data['u'].mean(dim=-1, keepdims=True),\n",
    "            g.nodes['g'].data['u_ref'] - g.nodes['g'].data['u_ref'].mean(dim=-1, keepdims=True),\n",
    "        )\n",
    "\n",
    "net = torch.nn.Sequential(\n",
    "        representation,\n",
    "        readout,\n",
    "        ExpCoeff(),\n",
    "        esp.mm.geometry.GeometryInGraph(),\n",
    "        esp.mm.energy.EnergyInGraph(terms=[\"n2\", \"n3\"]),\n",
    "        esp.mm.energy.EnergyInGraph(terms=[\"n2\", \"n3\"], suffix=\"_ref\")\n",
    ")\n",
    "\n",
    "rmse = [] \n",
    "\n",
    "state_dict = torch.load(\n",
    "        \"basic.th\",\n",
    "        map_location=\"cpu\",\n",
    ")\n",
    "\n",
    "# net = net.cuda()\n",
    "net.load_state_dict(state_dict)"
   ]
  },
  {
   "cell_type": "code",
   "execution_count": 63,
   "id": "db672415",
   "metadata": {},
   "outputs": [
    {
     "name": "stderr",
     "output_type": "stream",
     "text": [
      "/Users/wangy1/anaconda3/envs/esp/lib/python3.7/site-packages/dgl/base.py:45: DGLWarning: Recommend creating graphs by `dgl.graph(data)` instead of `dgl.DGLGraph(data)`.\n",
      "  return warnings.warn(message, category=category, stacklevel=1)\n"
     ]
    },
    {
     "data": {
      "text/plain": [
       "<espaloma.graphs.graph.Graph at 0x7f9717f1d550>"
      ]
     },
     "execution_count": 63,
     "metadata": {},
     "output_type": "execute_result"
    }
   ],
   "source": [
    "g = esp.Graph(\"[H]C1(C(OOC1(C([H])([H])[H])C([H])([H])[H])([H])[H])[H]\")\n",
    "\n",
    "esp.data.md.MoleculeVacuumSimulation(n_samples=1000).run(g)\n",
    "esp.graphs.legacy_force_field.LegacyForceField().parametrize(g)"
   ]
  },
  {
   "cell_type": "code",
   "execution_count": 71,
   "id": "720456f5",
   "metadata": {},
   "outputs": [
    {
     "data": {
      "text/plain": [
       "Graph(num_nodes={'g': 1, 'n1': 17, 'n2': 34, 'n3': 64, 'n4': 86, 'n4_improper': 0, 'nonbonded': 24, 'onefour': 86},\n",
       "      num_edges={('g', 'g_has_n1', 'n1'): 17, ('g', 'g_has_n2', 'n2'): 34, ('g', 'g_has_n3', 'n3'): 64, ('g', 'g_has_n4', 'n4'): 86, ('g', 'g_has_n4_improper', 'n4_improper'): 0, ('g', 'g_has_nonbonded', 'nonbonded'): 24, ('g', 'g_has_onefour', 'onefour'): 86, ('n1', 'n1_as_0_in_n2', 'n2'): 34, ('n1', 'n1_as_0_in_n3', 'n3'): 64, ('n1', 'n1_as_0_in_n4', 'n4'): 86, ('n1', 'n1_as_0_in_n4_improper', 'n4_improper'): 0, ('n1', 'n1_as_0_in_nonbonded', 'nonbonded'): 24, ('n1', 'n1_as_0_in_onefour', 'onefour'): 86, ('n1', 'n1_as_1_in_n2', 'n2'): 34, ('n1', 'n1_as_1_in_n3', 'n3'): 64, ('n1', 'n1_as_1_in_n4', 'n4'): 86, ('n1', 'n1_as_1_in_n4_improper', 'n4_improper'): 0, ('n1', 'n1_as_1_in_nonbonded', 'nonbonded'): 24, ('n1', 'n1_as_1_in_onefour', 'onefour'): 86, ('n1', 'n1_as_2_in_n3', 'n3'): 64, ('n1', 'n1_as_2_in_n4', 'n4'): 86, ('n1', 'n1_as_2_in_n4_improper', 'n4_improper'): 0, ('n1', 'n1_as_3_in_n4', 'n4'): 86, ('n1', 'n1_as_3_in_n4_improper', 'n4_improper'): 0, ('n1', 'n1_in_g', 'g'): 17, ('n1', 'n1_neighbors_n1', 'n1'): 34, ('n2', 'n2_as_0_in_n3', 'n3'): 64, ('n2', 'n2_as_0_in_n4', 'n4'): 86, ('n2', 'n2_as_1_in_n3', 'n3'): 64, ('n2', 'n2_as_1_in_n4', 'n4'): 86, ('n2', 'n2_as_2_in_n4', 'n4'): 86, ('n2', 'n2_has_0_n1', 'n1'): 34, ('n2', 'n2_has_1_n1', 'n1'): 34, ('n2', 'n2_in_g', 'g'): 34, ('n3', 'n3_as_0_in_n4', 'n4'): 86, ('n3', 'n3_as_1_in_n4', 'n4'): 86, ('n3', 'n3_has_0_n1', 'n1'): 64, ('n3', 'n3_has_0_n2', 'n2'): 64, ('n3', 'n3_has_1_n1', 'n1'): 64, ('n3', 'n3_has_1_n2', 'n2'): 64, ('n3', 'n3_has_2_n1', 'n1'): 64, ('n3', 'n3_in_g', 'g'): 64, ('n4', 'n4_has_0_n1', 'n1'): 86, ('n4', 'n4_has_0_n2', 'n2'): 86, ('n4', 'n4_has_0_n3', 'n3'): 86, ('n4', 'n4_has_1_n1', 'n1'): 86, ('n4', 'n4_has_1_n2', 'n2'): 86, ('n4', 'n4_has_1_n3', 'n3'): 86, ('n4', 'n4_has_2_n1', 'n1'): 86, ('n4', 'n4_has_2_n2', 'n2'): 86, ('n4', 'n4_has_3_n1', 'n1'): 86, ('n4', 'n4_in_g', 'g'): 86, ('n4_improper', 'n4_improper_has_0_n1', 'n1'): 0, ('n4_improper', 'n4_improper_has_1_n1', 'n1'): 0, ('n4_improper', 'n4_improper_has_2_n1', 'n1'): 0, ('n4_improper', 'n4_improper_has_3_n1', 'n1'): 0, ('n4_improper', 'n4_improper_in_g', 'g'): 0, ('nonbonded', 'nonbonded_has_0_n1', 'n1'): 24, ('nonbonded', 'nonbonded_has_1_n1', 'n1'): 24, ('nonbonded', 'nonbonded_in_g', 'g'): 24, ('onefour', 'onefour_has_0_n1', 'n1'): 86, ('onefour', 'onefour_has_1_n1', 'n1'): 86, ('onefour', 'onefour_in_g', 'g'): 86},\n",
       "      metagraph=[('g', 'n1', 'g_has_n1'), ('g', 'n2', 'g_has_n2'), ('g', 'n3', 'g_has_n3'), ('g', 'n4', 'g_has_n4'), ('g', 'n4_improper', 'g_has_n4_improper'), ('g', 'nonbonded', 'g_has_nonbonded'), ('g', 'onefour', 'g_has_onefour'), ('n1', 'n2', 'n1_as_0_in_n2'), ('n1', 'n2', 'n1_as_1_in_n2'), ('n1', 'n3', 'n1_as_0_in_n3'), ('n1', 'n3', 'n1_as_1_in_n3'), ('n1', 'n3', 'n1_as_2_in_n3'), ('n1', 'n4', 'n1_as_0_in_n4'), ('n1', 'n4', 'n1_as_1_in_n4'), ('n1', 'n4', 'n1_as_2_in_n4'), ('n1', 'n4', 'n1_as_3_in_n4'), ('n1', 'n4_improper', 'n1_as_0_in_n4_improper'), ('n1', 'n4_improper', 'n1_as_1_in_n4_improper'), ('n1', 'n4_improper', 'n1_as_2_in_n4_improper'), ('n1', 'n4_improper', 'n1_as_3_in_n4_improper'), ('n1', 'nonbonded', 'n1_as_0_in_nonbonded'), ('n1', 'nonbonded', 'n1_as_1_in_nonbonded'), ('n1', 'onefour', 'n1_as_0_in_onefour'), ('n1', 'onefour', 'n1_as_1_in_onefour'), ('n1', 'g', 'n1_in_g'), ('n1', 'n1', 'n1_neighbors_n1'), ('n2', 'n3', 'n2_as_0_in_n3'), ('n2', 'n3', 'n2_as_1_in_n3'), ('n2', 'n4', 'n2_as_0_in_n4'), ('n2', 'n4', 'n2_as_1_in_n4'), ('n2', 'n4', 'n2_as_2_in_n4'), ('n2', 'n1', 'n2_has_0_n1'), ('n2', 'n1', 'n2_has_1_n1'), ('n2', 'g', 'n2_in_g'), ('n3', 'n4', 'n3_as_0_in_n4'), ('n3', 'n4', 'n3_as_1_in_n4'), ('n3', 'n1', 'n3_has_0_n1'), ('n3', 'n1', 'n3_has_1_n1'), ('n3', 'n1', 'n3_has_2_n1'), ('n3', 'n2', 'n3_has_0_n2'), ('n3', 'n2', 'n3_has_1_n2'), ('n3', 'g', 'n3_in_g'), ('n4', 'n1', 'n4_has_0_n1'), ('n4', 'n1', 'n4_has_1_n1'), ('n4', 'n1', 'n4_has_2_n1'), ('n4', 'n1', 'n4_has_3_n1'), ('n4', 'n2', 'n4_has_0_n2'), ('n4', 'n2', 'n4_has_1_n2'), ('n4', 'n2', 'n4_has_2_n2'), ('n4', 'n3', 'n4_has_0_n3'), ('n4', 'n3', 'n4_has_1_n3'), ('n4', 'g', 'n4_in_g'), ('n4_improper', 'n1', 'n4_improper_has_0_n1'), ('n4_improper', 'n1', 'n4_improper_has_1_n1'), ('n4_improper', 'n1', 'n4_improper_has_2_n1'), ('n4_improper', 'n1', 'n4_improper_has_3_n1'), ('n4_improper', 'g', 'n4_improper_in_g'), ('nonbonded', 'n1', 'nonbonded_has_0_n1'), ('nonbonded', 'n1', 'nonbonded_has_1_n1'), ('nonbonded', 'g', 'nonbonded_in_g'), ('onefour', 'n1', 'onefour_has_0_n1'), ('onefour', 'n1', 'onefour_has_1_n1'), ('onefour', 'g', 'onefour_in_g')])"
      ]
     },
     "execution_count": 71,
     "metadata": {},
     "output_type": "execute_result"
    }
   ],
   "source": [
    "net(g.heterograph)"
   ]
  },
  {
   "cell_type": "code",
   "execution_count": 72,
   "id": "a10dd146",
   "metadata": {},
   "outputs": [],
   "source": [
    "from matplotlib import pyplot as plt"
   ]
  },
  {
   "cell_type": "code",
   "execution_count": 73,
   "id": "5bc9c3fc",
   "metadata": {},
   "outputs": [
    {
     "data": {
      "image/png": "[encoded data removed]",
      "text/plain": [
       "<Figure size 864x216 with 4 Axes>"
      ]
     },
     "metadata": {
      "needs_background": "light"
     },
     "output_type": "display_data"
    }
   ],
   "source": [
    "fig, axs = plt.subplots(1, 4, figsize=(12, 3))\n",
    "\n",
    "axs[0].scatter(\n",
    "    g.nodes['g'].data['u_ref'].detach() * 625,\n",
    "    g.nodes['g'].data['u'].detach() * 625\n",
    ")\n",
    "\n",
    "axs[0].set_xlabel(\"$U$ (kcal/mol)\")\n",
    "axs[0].set_ylabel(\"$\\hat{U}$ (kcal/mol)\")\n",
    "\n",
    "axs[1].scatter(\n",
    "    g.nodes['n2'].data['u_ref'].sum(dim=0).detach() * 625,\n",
    "    g.nodes['n2'].data['u'].sum(dim=0).detach() * 625\n",
    ")\n",
    "\n",
    "axs[1].set_xlabel(\"$U_2$ (kcal/mol)\")\n",
    "axs[1].set_ylabel(\"$\\hat{U}_2$ (kcal/mol)\")\n",
    "\n",
    "\n",
    "axs[2].scatter(\n",
    "    g.nodes['n3'].data['u_ref'].sum(dim=0).detach() * 625,\n",
    "    g.nodes['n3'].data['u'].sum(dim=0).detach() * 625\n",
    ")\n",
    "\n",
    "axs[2].set_xlabel(\"$U_3$ (kcal/mol)\")\n",
    "axs[2].set_ylabel(\"$\\hat{U}_3$ (kcal/mol)\")\n",
    "\n",
    "axs[3].scatter(\n",
    "    g.nodes['n4'].data['u_ref'].sum(dim=0).detach() * 625,\n",
    "    g.nodes['n4'].data['u'].sum(dim=0).detach() * 625\n",
    ")\n",
    "\n",
    "axs[3].set_xlabel(\"$U_4$ (kcal/mol)\")\n",
    "axs[3].set_ylabel(\"$\\hat{U}_4$ (kcal/mol)\")\n",
    "\n",
    "\n",
    "plt.tight_layout()"
   ]
  },
  {
   "cell_type": "code",
   "execution_count": 74,
   "id": "ba65bb39",
   "metadata": {},
   "outputs": [
    {
     "data": {
      "text/plain": [
       "Text(0, 0.5, '$\\\\hat{b3}$ rad')"
      ]
     },
     "execution_count": 74,
     "metadata": {},
     "output_type": "execute_result"
    },
    {
     "data": {
      "image/png": "[encoded data removed]",
      "text/plain": [
       "<Figure size 864x216 with 4 Axes>"
      ]
     },
     "metadata": {
      "needs_background": "light"
     },
     "output_type": "display_data"
    }
   ],
   "source": [
    "fig, axs = plt.subplots(1, 4, figsize=(12, 3))\n",
    "\n",
    "axs[0].scatter(\n",
    "    g.nodes['n2'].data['k_ref'].detach() * 625,\n",
    "    g.nodes['n2'].data['k'].detach() * 625\n",
    ")\n",
    "\n",
    "axs[0].set_xlabel(\"$k2$ (kcal/(mol * bohr ** 2)\")\n",
    "axs[0].set_ylabel(\"$\\hat{k2}$ (kcal/(mol * bohr ** 2)\")\n",
    "\n",
    "axs[1].scatter(\n",
    "    g.nodes['n2'].data['eq_ref'].detach(),\n",
    "    g.nodes['n2'].data['eq'].detach()\n",
    ")\n",
    "\n",
    "axs[1].set_xlabel(\"$b2$ Bohr \")\n",
    "axs[1].set_ylabel(\"$\\hat{b2}$ Bohr\")\n",
    "\n",
    "\n",
    "axs[2].scatter(\n",
    "    g.nodes['n3'].data['k_ref'].detach() * 625,\n",
    "    g.nodes['n3'].data['k'].detach() * 625\n",
    ")\n",
    "\n",
    "axs[2].set_xlabel(\"$k3$ (kcal/(mol * rad ** 2)\")\n",
    "axs[2].set_ylabel(\"$\\hat{k3}$ (kcal/(mol * rad ** 2)\")\n",
    "\n",
    "axs[3].scatter(\n",
    "    g.nodes['n3'].data['eq_ref'].detach(),\n",
    "    g.nodes['n3'].data['eq'].detach()\n",
    ")\n",
    "\n",
    "axs[3].set_xlabel(\"$b3$ rad \")\n",
    "axs[3].set_ylabel(\"$\\hat{b3}$ rad\")\n"
   ]
  },
  {
   "cell_type": "code",
   "execution_count": 41,
   "id": "87ef4a30",
   "metadata": {},
   "outputs": [
    {
     "data": {
      "text/plain": [
       "tensor([1.0683, 1.0645, 0.9998, 0.9597, 1.0507, 1.0486, 1.0683, 1.0645, 0.9998,\n",
       "        0.9597, 1.0507, 1.0486], grad_fn=<SumBackward1>)"
      ]
     },
     "execution_count": 41,
     "metadata": {},
     "output_type": "execute_result"
    }
   ],
   "source": [
    "(g.nodes['n3'].data['k'] * (g.nodes['n3'].data['x'] - g.nodes['n3'].data['eq']) ** 2).sum(dim=-1)"
   ]
  },
  {
   "cell_type": "code",
   "execution_count": null,
   "id": "d8feaa99",
   "metadata": {},
   "outputs": [],
   "source": []
  }
 ],
 "metadata": {
  "kernelspec": {
   "display_name": "Python 3",
   "language": "python",
   "name": "python3"
  },
  "language_info": {
   "codemirror_mode": {
    "name": "ipython",
    "version": 3
   },
   "file_extension": ".py",
   "mimetype": "text/x-python",
   "name": "python",
   "nbconvert_exporter": "python",
   "pygments_lexer": "ipython3",
   "version": "3.7.10"
  }
 },
 "nbformat": 4,
 "nbformat_minor": 5
}

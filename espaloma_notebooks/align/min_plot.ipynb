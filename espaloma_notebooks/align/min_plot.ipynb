{
 "cells": [
  {
   "cell_type": "code",
   "execution_count": 1,
   "id": "62a4512b",
   "metadata": {
    "id": "62a4512b"
   },
   "outputs": [],
   "source": [
    "import numpy as np\n",
    "from matplotlib import pyplot as plt"
   ]
  },
  {
   "cell_type": "code",
   "execution_count": 2,
   "id": "b5abb007",
   "metadata": {
    "id": "b5abb007"
   },
   "outputs": [],
   "source": [
    "def rmsd(x, x_qm):\n",
    "    return ((x - x_qm) ** 2).mean() ** 0.5"
   ]
  },
  {
   "cell_type": "code",
   "execution_count": 3,
   "id": "ea698881",
   "metadata": {
    "id": "ea698881"
   },
   "outputs": [],
   "source": [
    "rmsds_esp = []\n",
    "rmsds_gaff1 = []\n",
    "rmsds_gaff2 = []\n",
    "rmsds_off = []\n",
    "rmsds_qm = []"
   ]
  },
  {
   "cell_type": "code",
   "execution_count": 4,
   "id": "1aec6e43",
   "metadata": {
    "id": "1aec6e43",
    "outputId": "f351ee95-5b4c-4bb5-a258-97afcba95da5"
   },
   "outputs": [
    {
     "name": "stdout",
     "output_type": "stream",
     "text": [
      "16\n"
     ]
    }
   ],
   "source": [
    "for n in range(78):\n",
    "    try:\n",
    "        x_esp = np.load(\"compare_plot_parsley/x_esp_%s.npy\" % n)\n",
    "        x_gaff1 = np.load(\"compare_plot_parsley/x_gaff1_%s.npy\" % n)\n",
    "        x_gaff2 = np.load(\"compare_plot_parsley/x_gaff2_%s.npy\" % n)\n",
    "        x_off = np.load(\"compare_plot_parsley/x_openff_%s.npy\" % n)\n",
    "        x_qm = np.load(\"compare_plot_parsley/x_qm_%s.npy\" % n)\n",
    "\n",
    "        rmsd_esp = rmsd(x_esp, x_qm)\n",
    "        rmsd_gaff1 = rmsd(x_gaff1, x_qm)\n",
    "        rmsd_gaff2 = rmsd(x_gaff2, x_qm)\n",
    "        rmsd_off = rmsd(x_off, x_qm)\n",
    "\n",
    "        rmsds_esp.append(rmsd_esp)\n",
    "        rmsds_gaff1.append(rmsd_gaff1)\n",
    "        rmsds_gaff2.append(rmsd_gaff2)\n",
    "        rmsds_off.append(rmsd_off)\n",
    "    except:\n",
    "        print(n)\n",
    "\n"
   ]
  },
  {
   "cell_type": "code",
   "execution_count": 6,
   "id": "f3edc91d",
   "metadata": {
    "id": "f3edc91d",
    "outputId": "849c863e-e085-4cdf-bc3e-2940d9dad9de"
   },
   "outputs": [
    {
     "data": {
      "image/png": "[encoded data removed]",
      "text/plain": [
       "<Figure size 576x144 with 1 Axes>"
      ]
     },
     "metadata": {
      "needs_background": "light"
     },
     "output_type": "display_data"
    }
   ],
   "source": [
    "import seaborn as sns\n",
    "from matplotlib import rcParams\n",
    "rcParams['font.family'] = 'sans-serif'\n",
    "rcParams['font.sans-serif'] = ['Helvetica']\n",
    "plt.figure(figsize=(8, 2))\n",
    "plt.box(False)\n",
    "sns.kdeplot(rmsds_esp, label=\"espaloma, mean rmsd=%.3f Å\" % np.mean(rmsds_esp), linewidth=4)\n",
    "sns.kdeplot(rmsds_gaff1, label=\"gaff-1.81, mean rmsd=%.3f Å\" % np.mean(rmsds_gaff1), linewidth=1)\n",
    "sns.kdeplot(rmsds_gaff2, label=\"gaff-2.11, mean rmsd=%.3f Å\" % np.mean(rmsds_gaff2), linewidth=1)\n",
    "sns.kdeplot(rmsds_off, label=\"openff-1.20, mean rmsd=%.3f Å\" % np.mean(rmsds_off), linewidth=1)\n",
    "sns.rugplot(rmsds_esp)\n",
    "plt.xlim(0, max(rmsds_esp))\n",
    "plt.xlabel(\"RMSD, Å\")\n",
    "plt.legend(loc=\"upper right\")\n",
    "frame = plt.gca()\n",
    "frame.axes.get_yaxis().set_visible(False)\n",
    "plt.tight_layout()\n",
    "plt.savefig(\"kde.png\", dpi=299)"
   ]
  },
  {
   "cell_type": "code",
   "execution_count": null,
   "id": "be425b66",
   "metadata": {
    "id": "be425b66",
    "outputId": "b5e14214-f014-41ff-d26e-a2fc4a8c5983"
   },
   "outputs": [
    {
     "data": {
      "text/plain": [
       "46"
      ]
     },
     "execution_count": 113,
     "metadata": {},
     "output_type": "execute_result"
    }
   ],
   "source": [
    "np.argmax(rmsds_esp)"
   ]
  },
  {
   "cell_type": "code",
   "execution_count": null,
   "id": "456a2c96",
   "metadata": {
    "colab": {
     "referenced_widgets": [
      "91ee683bc8d34cf5833b0b4ea4d06adc"
     ]
    },
    "id": "456a2c96",
    "outputId": "38a060fd-ac2d-47df-cc31-d690f76d9192"
   },
   "outputs": [
    {
     "name": "stderr",
     "output_type": "stream",
     "text": [
      "Using backend: pytorch\n",
      "Warning: Unable to load toolkit 'OpenEye Toolkit'. The Open Force Field Toolkit does not require the OpenEye Toolkits, and can use RDKit/AmberTools instead. However, if you have a valid license for the OpenEye Toolkits, consider installing them for faster performance and additional file format support: https://docs.eyesopen.com/toolkits/python/quickstart-python/linuxosx.html OpenEye offers free Toolkit licenses for academics: https://www.eyesopen.com/academic-licensing\n"
     ]
    },
    {
     "data": {
      "application/vnd.jupyter.widget-view+json": {
       "model_id": "91ee683bc8d34cf5833b0b4ea4d06adc",
       "version_major": 2,
       "version_minor": 0
      },
      "text/plain": []
     },
     "metadata": {},
     "output_type": "display_data"
    }
   ],
   "source": [
    "import espaloma as esp\n",
    "ds = esp.data.dataset.GraphDataset.load(\"../minimize_plot/merged_parsley\")"
   ]
  },
  {
   "cell_type": "code",
   "execution_count": null,
   "id": "d43d6530",
   "metadata": {
    "id": "d43d6530"
   },
   "outputs": [],
   "source": [
    "ds.shuffle(2666)\n",
    "_, ds, __ = ds.split([8, 1, 1])"
   ]
  },
  {
   "cell_type": "code",
   "execution_count": null,
   "id": "2073307a",
   "metadata": {
    "id": "2073307a"
   },
   "outputs": [],
   "source": [
    "g = esp.Graph(\"[H][C]1=[C]([Cl])[S][C]([Cl])=[C]1[C](=[O])[N]1[C]([H])([H])[C]([H])([H])[C]([H])([H])[S]1(=[O])=[O]\")\n",
    "from simtk.unit import Unit, Quantity\n",
    "from simtk.unit import *\n",
    "x_old = Quantity(np.load(\"x_qm_64.npy\"), unit=angstrom)\n",
    "x_new = Quantity(np.load(\"x_esp_64.npy\"), unit=angstrom)\n",
    "g.mol.add_conformer(x_old)\n",
    "g.mol.to_file(\"min_qm.sdf\", \"sdf\")\n",
    "g.mol._conformers = []\n",
    "g.mol.add_conformer(x_new)\n",
    "g.mol.to_file(\"min_esp\", \"sdf\")"
   ]
  },
  {
   "cell_type": "code",
   "execution_count": null,
   "id": "ce9c9cfb",
   "metadata": {
    "id": "ce9c9cfb",
    "outputId": "ea072ace-22e1-45ff-92cb-f79a4eeb4cb0"
   },
   "outputs": [
    {
     "data": {
      "text/plain": [
       "0.9588522144481579"
      ]
     },
     "execution_count": 112,
     "metadata": {},
     "output_type": "execute_result"
    }
   ],
   "source": [
    "rmsds_esp[46]"
   ]
  },
  {
   "cell_type": "code",
   "execution_count": null,
   "id": "00156bca",
   "metadata": {
    "id": "00156bca",
    "outputId": "0041c830-2d70-41fa-dbc9-08a1e32d8603"
   },
   "outputs": [
    {
     "data": {
      "text/plain": [
       "array([0])"
      ]
     },
     "execution_count": 118,
     "metadata": {},
     "output_type": "execute_result"
    }
   ],
   "source": [
    "rmsds_esp[int(0.5 * float(len(rmsds_esp)))])"
   ]
  },
  {
   "cell_type": "code",
   "execution_count": null,
   "id": "92e660f1",
   "metadata": {
    "id": "92e660f1",
    "outputId": "7a5fe09a-ccff-4dbe-f5aa-aa41291d4839"
   },
   "outputs": [
    {
     "data": {
      "text/plain": [
       "38"
      ]
     },
     "execution_count": 119,
     "metadata": {},
     "output_type": "execute_result"
    }
   ],
   "source": [
    "int(0.5 * float(len(rmsds_esp)))"
   ]
  },
  {
   "cell_type": "code",
   "execution_count": null,
   "id": "e597a541",
   "metadata": {
    "id": "e597a541",
    "outputId": "cdbaf51c-c48b-4a94-cd8e-74bbb1b8bd42"
   },
   "outputs": [
    {
     "data": {
      "text/plain": [
       "33"
      ]
     },
     "execution_count": 120,
     "metadata": {},
     "output_type": "execute_result"
    }
   ],
   "source": [
    "np.argsort(rmsds_esp)[38]"
   ]
  },
  {
   "cell_type": "code",
   "execution_count": null,
   "id": "b84ca583",
   "metadata": {
    "id": "b84ca583",
    "outputId": "ab31f635-4e10-494d-d855-98578d4f25f4"
   },
   "outputs": [
    {
     "data": {
      "text/plain": [
       "0.23561125396509175"
      ]
     },
     "execution_count": 121,
     "metadata": {},
     "output_type": "execute_result"
    }
   ],
   "source": [
    "rmsds_esp[33]"
   ]
  },
  {
   "cell_type": "code",
   "execution_count": null,
   "id": "2ca19270",
   "metadata": {
    "id": "2ca19270",
    "outputId": "ded20835-1c97-4221-a335-00c2d4e11534"
   },
   "outputs": [
    {
     "data": {
      "text/plain": [
       "0.23561125396509175"
      ]
     },
     "execution_count": 122,
     "metadata": {},
     "output_type": "execute_result"
    }
   ],
   "source": [
    "np.median(rmsds_esp)"
   ]
  },
  {
   "cell_type": "code",
   "execution_count": null,
   "id": "da38cbf2",
   "metadata": {
    "id": "da38cbf2",
    "outputId": "4bbde3dc-daa4-421b-bbb3-1ef36553da23"
   },
   "outputs": [
    {
     "data": {
      "text/plain": [
       "0.9588522144481579"
      ]
     },
     "execution_count": 127,
     "metadata": {},
     "output_type": "execute_result"
    }
   ],
   "source": [
    "np.max(rmsds_esp)"
   ]
  },
  {
   "cell_type": "code",
   "execution_count": null,
   "id": "02892ade",
   "metadata": {
    "id": "02892ade"
   },
   "outputs": [],
   "source": []
  }
 ],
 "metadata": {
  "colab": {
   "name": "min_plot.ipynb",
   "provenance": []
  },
  "kernelspec": {
   "display_name": "Python 3",
   "language": "python",
   "name": "python3"
  },
  "language_info": {
   "codemirror_mode": {
    "name": "ipython",
    "version": 3
   },
   "file_extension": ".py",
   "mimetype": "text/x-python",
   "name": "python",
   "nbconvert_exporter": "python",
   "pygments_lexer": "ipython3",
   "version": "3.7.10"
  }
 },
 "nbformat": 4,
 "nbformat_minor": 5
}

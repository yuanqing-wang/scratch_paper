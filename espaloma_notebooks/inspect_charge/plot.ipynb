{
 "cells": [
  {
   "cell_type": "code",
   "execution_count": 2,
   "id": "8966bb2b",
   "metadata": {},
   "outputs": [
    {
     "name": "stderr",
     "output_type": "stream",
     "text": [
      "Warning: importing 'simtk.openmm' is deprecated.  Import 'openmm' instead.\n",
      "Warning: Unable to load toolkit 'OpenEye Toolkit'. The Open Force Field Toolkit does not require the OpenEye Toolkits, and can use RDKit/AmberTools instead. However, if you have a valid license for the OpenEye Toolkits, consider installing them for faster performance and additional file format support: https://docs.eyesopen.com/toolkits/python/quickstart-python/linuxosx.html OpenEye offers free Toolkit licenses for academics: https://www.eyesopen.com/academic-licensing\n"
     ]
    }
   ],
   "source": [
    "import espaloma as esp"
   ]
  },
  {
   "cell_type": "code",
   "execution_count": 3,
   "id": "9e163b24",
   "metadata": {},
   "outputs": [
    {
     "name": "stderr",
     "output_type": "stream",
     "text": [
      "Using backend: pytorch\n"
     ]
    }
   ],
   "source": [
    "g = esp.Graph.load(\"g_tr/0\")"
   ]
  },
  {
   "cell_type": "code",
   "execution_count": 15,
   "id": "ffa2e38d",
   "metadata": {},
   "outputs": [
    {
     "data": {
      "text/plain": [
       "tensor([[ 0.4409],\n",
       "        [ 0.0389],\n",
       "        [-0.1576],\n",
       "        [-0.1930],\n",
       "        [ 0.1201],\n",
       "        [-0.1602],\n",
       "        [ 0.5209],\n",
       "        [ 0.5994],\n",
       "        [-0.1971],\n",
       "        [-0.6563],\n",
       "        [-0.5609],\n",
       "        [-0.5036],\n",
       "        [-0.0623],\n",
       "        [-0.1187],\n",
       "        [ 0.0414],\n",
       "        [ 0.1781],\n",
       "        [ 0.0655],\n",
       "        [ 0.0655],\n",
       "        [ 0.0655],\n",
       "        [ 0.4735]], dtype=torch.float64)"
      ]
     },
     "execution_count": 15,
     "metadata": {},
     "output_type": "execute_result"
    }
   ],
   "source": [
    "g.nodes['n1'].data['q']"
   ]
  },
  {
   "cell_type": "code",
   "execution_count": 13,
   "id": "45c6cb40",
   "metadata": {},
   "outputs": [],
   "source": [
    "esp.mm."
   ]
  },
  {
   "cell_type": "code",
   "execution_count": 12,
   "id": "de87529a",
   "metadata": {},
   "outputs": [
    {
     "name": "stdout",
     "output_type": "stream",
     "text": [
      "tensor([[-0.0824, -0.0847, -0.0872, -0.0851, -0.0829, -0.0842, -0.0840, -0.0840,\n",
      "         -0.0837, -0.0837, -0.0837, -0.0837, -0.0837, -0.0837, -0.0838, -0.0837,\n",
      "         -0.0837, -0.0835, -0.0833, -0.0834, -0.0833, -0.0833, -0.0833, -0.0833,\n",
      "         -0.0833, -0.0833, -0.0833, -0.0833, -0.0833, -0.0833, -0.0833, -0.0833,\n",
      "         -0.0833, -0.0833, -0.0833, -0.0833, -0.0833, -0.0833, -0.0833, -0.0833,\n",
      "         -0.0833, -0.0833, -0.0833, -0.0833, -0.0834, -0.0834, -0.0834, -0.0834,\n",
      "         -0.0834, -0.0834, -0.0834, -0.0834, -0.0834, -0.0834, -0.0834, -0.0834,\n",
      "         -0.0834, -0.0834, -0.0834, -0.0834, -0.0834, -0.0834, -0.0834, -0.0834,\n",
      "         -0.0834, -0.0834, -0.0834, -0.0834, -0.0834, -0.0834, -0.0834, -0.0834,\n",
      "         -0.0834]], dtype=torch.float64)\n"
     ]
    }
   ],
   "source": [
    "print(u)"
   ]
  },
  {
   "cell_type": "code",
   "execution_count": 14,
   "id": "731ec357",
   "metadata": {},
   "outputs": [
    {
     "name": "stdout",
     "output_type": "stream",
     "text": [
      "tensor([[-0.0824, -0.0847, -0.0872, -0.0851, -0.0829, -0.0842, -0.0840, -0.0840,\n",
      "         -0.0837, -0.0837, -0.0837, -0.0837, -0.0837, -0.0837, -0.0838, -0.0837,\n",
      "         -0.0837, -0.0835, -0.0833, -0.0834, -0.0833, -0.0833, -0.0833, -0.0833,\n",
      "         -0.0833, -0.0833, -0.0833, -0.0833, -0.0833, -0.0833, -0.0833, -0.0833,\n",
      "         -0.0833, -0.0833, -0.0833, -0.0833, -0.0833, -0.0833, -0.0833, -0.0833,\n",
      "         -0.0833, -0.0833, -0.0833, -0.0833, -0.0834, -0.0834, -0.0834, -0.0834,\n",
      "         -0.0834, -0.0834, -0.0834, -0.0834, -0.0834, -0.0834, -0.0834, -0.0834,\n",
      "         -0.0834, -0.0834, -0.0834, -0.0834, -0.0834, -0.0834, -0.0834, -0.0834,\n",
      "         -0.0834, -0.0834, -0.0834, -0.0834, -0.0834, -0.0834, -0.0834, -0.0834,\n",
      "         -0.0834]], dtype=torch.float64)\n"
     ]
    }
   ],
   "source": [
    "print(u)"
   ]
  },
  {
   "cell_type": "code",
   "execution_count": 8,
   "id": "b095d00b",
   "metadata": {},
   "outputs": [
    {
     "data": {
      "text/plain": [
       "Quantity(value=array([ 0.4409    ,  0.03893   , -0.15764999, -0.19296999,  0.12012   ,\n",
       "       -0.16024999,  0.52085   ,  0.59938002, -0.19707   , -0.65627998,\n",
       "       -0.56093001, -0.50362003, -0.06228   , -0.11871   ,  0.04138   ,\n",
       "        0.17806999,  0.06553   ,  0.06553   ,  0.06553   ,  0.47354001]), unit=elementary charge)"
      ]
     },
     "execution_count": 8,
     "metadata": {},
     "output_type": "execute_result"
    }
   ],
   "source": [
    "g.mol.partial_charges"
   ]
  },
  {
   "cell_type": "code",
   "execution_count": null,
   "id": "2bc56c08",
   "metadata": {},
   "outputs": [],
   "source": []
  }
 ],
 "metadata": {
  "kernelspec": {
   "display_name": "Python 3",
   "language": "python",
   "name": "python3"
  },
  "language_info": {
   "codemirror_mode": {
    "name": "ipython",
    "version": 3
   },
   "file_extension": ".py",
   "mimetype": "text/x-python",
   "name": "python",
   "nbconvert_exporter": "python",
   "pygments_lexer": "ipython3",
   "version": "3.7.10"
  }
 },
 "nbformat": 4,
 "nbformat_minor": 5
}

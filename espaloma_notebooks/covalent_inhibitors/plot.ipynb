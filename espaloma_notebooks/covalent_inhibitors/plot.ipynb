{
 "cells": [
  {
   "cell_type": "code",
   "execution_count": 1,
   "metadata": {},
   "outputs": [],
   "source": [
    "! export OE_LICENSE=/Users/wangy1/Downloads/oe_license.txt"
   ]
  },
  {
   "cell_type": "code",
   "execution_count": 2,
   "metadata": {},
   "outputs": [
    {
     "name": "stderr",
     "output_type": "stream",
     "text": [
      "Using backend: pytorch\n",
      "Warning: importing 'simtk.openmm' is deprecated.  Import 'openmm' instead.\n",
      "LICENSE: Could not open license file \"oe_license.txt\" in local directory\n",
      "LICENSE: N.B. OE_LICENSE environment variable is not set\n",
      "LICENSE: N.B. OE_DIR environment variable is not set\n",
      "LICENSE: No product keys!\n",
      "LICENSE: No product keys!\n",
      "LICENSE: No product keys!\n",
      "Warning: Unable to load toolkit 'OpenEye Toolkit'. The Open Force Field Toolkit does not require the OpenEye Toolkits, and can use RDKit/AmberTools instead. However, if you have a valid license for the OpenEye Toolkits, consider installing them for faster performance and additional file format support: https://docs.eyesopen.com/toolkits/python/quickstart-python/linuxosx.html OpenEye offers free Toolkit licenses for academics: https://www.eyesopen.com/academic-licensing\n",
      "LICENSE: No product keys!\n"
     ]
    }
   ],
   "source": [
    "import torch\n",
    "import dgl\n",
    "import espaloma as esp\n",
    "import math\n",
    "from openeye import oechem, oedepict, oegrapheme"
   ]
  },
  {
   "cell_type": "code",
   "execution_count": 2,
   "metadata": {},
   "outputs": [
    {
     "name": "stderr",
     "output_type": "stream",
     "text": [
      "/Users/wangy1/anaconda3/envs/esp/lib/python3.7/site-packages/dgl/base.py:45: DGLWarning: Recommend creating graphs by `dgl.graph(data)` instead of `dgl.DGLGraph(data)`.\n",
      "  return warnings.warn(message, category=category, stacklevel=1)\n"
     ]
    }
   ],
   "source": [
    "g = esp.Graph(\"[H][C@@](C(=O)N([H])[H])([C@@]([H])(C([H])([H])[H])O[H])N([H])C(=O)C([H])([H])N([H])C(=O)C([H])([H])[H]\")"
   ]
  },
  {
   "cell_type": "code",
   "execution_count": 1,
   "metadata": {},
   "outputs": [
    {
     "ename": "NameError",
     "evalue": "name 'torch' is not defined",
     "output_type": "error",
     "traceback": [
      "\u001b[0;31m---------------------------------------------------------------------------\u001b[0m",
      "\u001b[0;31mNameError\u001b[0m                                 Traceback (most recent call last)",
      "\u001b[0;32m/var/folders/ws/s0d_08b15ybf9tbl11tt2jv5l741n8/T/ipykernel_77956/2529470826.py\u001b[0m in \u001b[0;36m<module>\u001b[0;34m\u001b[0m\n\u001b[0;32m----> 1\u001b[0;31m \u001b[0mnet\u001b[0m \u001b[0;34m=\u001b[0m \u001b[0mtorch\u001b[0m\u001b[0;34m.\u001b[0m\u001b[0mload\u001b[0m\u001b[0;34m(\u001b[0m\u001b[0;34m\"espaloma-0.2.2.pt\"\u001b[0m\u001b[0;34m)\u001b[0m\u001b[0;34m\u001b[0m\u001b[0;34m\u001b[0m\u001b[0m\n\u001b[0m",
      "\u001b[0;31mNameError\u001b[0m: name 'torch' is not defined"
     ]
    }
   ],
   "source": [
    "net = torch.load(\"espaloma-0.2.2.pt\")"
   ]
  },
  {
   "cell_type": "code",
   "execution_count": 5,
   "metadata": {},
   "outputs": [
    {
     "name": "stderr",
     "output_type": "stream",
     "text": [
      "Warning (not error because allow_undefined_stereo=True): OEMol has unspecified stereochemistry. oemol.GetTitle(): \n",
      "Problematic atoms are:\n",
      "Atom atomic num: 6, name: , idx: 8, aromatic: False, chiral: True with bonds:\n",
      "bond order: 1, chiral: False to atom atomic num: 6, name: , idx: 7, aromatic: False, chiral: False\n",
      "bond order: 1, chiral: False to atom atomic num: 7, name: , idx: 9, aromatic: False, chiral: False\n",
      "bond order: 1, chiral: False to atom atomic num: 6, name: , idx: 32, aromatic: False, chiral: False\n",
      "bond order: 1, chiral: False to atom atomic num: 1, name: , idx: 42, aromatic: False, chiral: False\n",
      "\n",
      "Warning (not error because allow_undefined_stereo=True): OEMol has unspecified stereochemistry. oemol.GetTitle(): \n",
      "Problematic atoms are:\n",
      "Atom atomic num: 6, name: , idx: 20, aromatic: False, chiral: True with bonds:\n",
      "bond order: 1, chiral: False to atom atomic num: 6, name: , idx: 19, aromatic: False, chiral: False\n",
      "bond order: 1, chiral: False to atom atomic num: 7, name: , idx: 21, aromatic: False, chiral: False\n",
      "bond order: 1, chiral: False to atom atomic num: 6, name: , idx: 44, aromatic: False, chiral: False\n",
      "bond order: 1, chiral: False to atom atomic num: 1, name: , idx: 77, aromatic: False, chiral: False\n",
      "\n"
     ]
    }
   ],
   "source": [
    "piptide = esp.Graph(\"CC(=O)NCC(=O)N[C@@H](C(S))C(=O)N[C@@H](C(C(C)(C)))C(=O)NC\")\n",
    "ligand = esp.Graph(\"C=CC(=O)N1CCCC(n2nc(-c3ccc(Oc4ccccc4)cc3)c3c(N)ncnc32)C1\")\n",
    "complex = esp.Graph(\"CC(=O)NCC(=O)N[C@@H](C(S(CCC(=O)N1CCCC(n2nc(-c3ccc(Oc4ccccc4)cc3)c3c(N)ncnc32)C1)))C(=O)N[C@@H](C(C(C)(C)))C(=O)NC\")"
   ]
  },
  {
   "cell_type": "code",
   "execution_count": 6,
   "metadata": {},
   "outputs": [
    {
     "name": "stderr",
     "output_type": "stream",
     "text": [
      "/Users/wangy1/anaconda3/envs/esp/lib/python3.7/site-packages/dgl/base.py:45: DGLWarning: dgl.to_homo is deprecated. Please use dgl.to_homogeneous\n",
      "  return warnings.warn(message, category=category, stacklevel=1)\n"
     ]
    },
    {
     "data": {
      "text/plain": [
       "Graph(num_nodes={'g': 1, 'n1': 106, 'n2': 220, 'n3': 388, 'n4': 552, 'n4_improper': 174, 'nonbonded': 9438, 'onefour': 552},\n",
       "      num_edges={('g', 'g_has_n1', 'n1'): 106, ('g', 'g_has_n2', 'n2'): 220, ('g', 'g_has_n3', 'n3'): 388, ('g', 'g_has_n4', 'n4'): 552, ('g', 'g_has_n4_improper', 'n4_improper'): 174, ('g', 'g_has_nonbonded', 'nonbonded'): 9438, ('g', 'g_has_onefour', 'onefour'): 552, ('n1', 'n1_as_0_in_n2', 'n2'): 220, ('n1', 'n1_as_0_in_n3', 'n3'): 388, ('n1', 'n1_as_0_in_n4', 'n4'): 552, ('n1', 'n1_as_0_in_n4_improper', 'n4_improper'): 174, ('n1', 'n1_as_0_in_nonbonded', 'nonbonded'): 9438, ('n1', 'n1_as_0_in_onefour', 'onefour'): 552, ('n1', 'n1_as_1_in_n2', 'n2'): 220, ('n1', 'n1_as_1_in_n3', 'n3'): 388, ('n1', 'n1_as_1_in_n4', 'n4'): 552, ('n1', 'n1_as_1_in_n4_improper', 'n4_improper'): 174, ('n1', 'n1_as_1_in_nonbonded', 'nonbonded'): 9438, ('n1', 'n1_as_1_in_onefour', 'onefour'): 552, ('n1', 'n1_as_2_in_n3', 'n3'): 388, ('n1', 'n1_as_2_in_n4', 'n4'): 552, ('n1', 'n1_as_2_in_n4_improper', 'n4_improper'): 174, ('n1', 'n1_as_3_in_n4', 'n4'): 552, ('n1', 'n1_as_3_in_n4_improper', 'n4_improper'): 174, ('n1', 'n1_in_g', 'g'): 106, ('n1', 'n1_neighbors_n1', 'n1'): 220, ('n2', 'n2_as_0_in_n3', 'n3'): 388, ('n2', 'n2_as_0_in_n4', 'n4'): 552, ('n2', 'n2_as_1_in_n3', 'n3'): 388, ('n2', 'n2_as_1_in_n4', 'n4'): 552, ('n2', 'n2_as_2_in_n4', 'n4'): 552, ('n2', 'n2_has_0_n1', 'n1'): 220, ('n2', 'n2_has_1_n1', 'n1'): 220, ('n2', 'n2_in_g', 'g'): 220, ('n3', 'n3_as_0_in_n4', 'n4'): 552, ('n3', 'n3_as_1_in_n4', 'n4'): 552, ('n3', 'n3_has_0_n1', 'n1'): 388, ('n3', 'n3_has_0_n2', 'n2'): 388, ('n3', 'n3_has_1_n1', 'n1'): 388, ('n3', 'n3_has_1_n2', 'n2'): 388, ('n3', 'n3_has_2_n1', 'n1'): 388, ('n3', 'n3_in_g', 'g'): 388, ('n4', 'n4_has_0_n1', 'n1'): 552, ('n4', 'n4_has_0_n2', 'n2'): 552, ('n4', 'n4_has_0_n3', 'n3'): 552, ('n4', 'n4_has_1_n1', 'n1'): 552, ('n4', 'n4_has_1_n2', 'n2'): 552, ('n4', 'n4_has_1_n3', 'n3'): 552, ('n4', 'n4_has_2_n1', 'n1'): 552, ('n4', 'n4_has_2_n2', 'n2'): 552, ('n4', 'n4_has_3_n1', 'n1'): 552, ('n4', 'n4_in_g', 'g'): 552, ('n4_improper', 'n4_improper_has_0_n1', 'n1'): 174, ('n4_improper', 'n4_improper_has_1_n1', 'n1'): 174, ('n4_improper', 'n4_improper_has_2_n1', 'n1'): 174, ('n4_improper', 'n4_improper_has_3_n1', 'n1'): 174, ('n4_improper', 'n4_improper_in_g', 'g'): 174, ('nonbonded', 'nonbonded_has_0_n1', 'n1'): 9438, ('nonbonded', 'nonbonded_has_1_n1', 'n1'): 9438, ('nonbonded', 'nonbonded_in_g', 'g'): 9438, ('onefour', 'onefour_has_0_n1', 'n1'): 552, ('onefour', 'onefour_has_1_n1', 'n1'): 552, ('onefour', 'onefour_in_g', 'g'): 552},\n",
       "      metagraph=[('g', 'n1', 'g_has_n1'), ('g', 'n2', 'g_has_n2'), ('g', 'n3', 'g_has_n3'), ('g', 'n4', 'g_has_n4'), ('g', 'n4_improper', 'g_has_n4_improper'), ('g', 'nonbonded', 'g_has_nonbonded'), ('g', 'onefour', 'g_has_onefour'), ('n1', 'n2', 'n1_as_0_in_n2'), ('n1', 'n2', 'n1_as_1_in_n2'), ('n1', 'n3', 'n1_as_0_in_n3'), ('n1', 'n3', 'n1_as_1_in_n3'), ('n1', 'n3', 'n1_as_2_in_n3'), ('n1', 'n4', 'n1_as_0_in_n4'), ('n1', 'n4', 'n1_as_1_in_n4'), ('n1', 'n4', 'n1_as_2_in_n4'), ('n1', 'n4', 'n1_as_3_in_n4'), ('n1', 'n4_improper', 'n1_as_0_in_n4_improper'), ('n1', 'n4_improper', 'n1_as_1_in_n4_improper'), ('n1', 'n4_improper', 'n1_as_2_in_n4_improper'), ('n1', 'n4_improper', 'n1_as_3_in_n4_improper'), ('n1', 'nonbonded', 'n1_as_0_in_nonbonded'), ('n1', 'nonbonded', 'n1_as_1_in_nonbonded'), ('n1', 'onefour', 'n1_as_0_in_onefour'), ('n1', 'onefour', 'n1_as_1_in_onefour'), ('n1', 'g', 'n1_in_g'), ('n1', 'n1', 'n1_neighbors_n1'), ('n2', 'n3', 'n2_as_0_in_n3'), ('n2', 'n3', 'n2_as_1_in_n3'), ('n2', 'n4', 'n2_as_0_in_n4'), ('n2', 'n4', 'n2_as_1_in_n4'), ('n2', 'n4', 'n2_as_2_in_n4'), ('n2', 'n1', 'n2_has_0_n1'), ('n2', 'n1', 'n2_has_1_n1'), ('n2', 'g', 'n2_in_g'), ('n3', 'n4', 'n3_as_0_in_n4'), ('n3', 'n4', 'n3_as_1_in_n4'), ('n3', 'n1', 'n3_has_0_n1'), ('n3', 'n1', 'n3_has_1_n1'), ('n3', 'n1', 'n3_has_2_n1'), ('n3', 'n2', 'n3_has_0_n2'), ('n3', 'n2', 'n3_has_1_n2'), ('n3', 'g', 'n3_in_g'), ('n4', 'n1', 'n4_has_0_n1'), ('n4', 'n1', 'n4_has_1_n1'), ('n4', 'n1', 'n4_has_2_n1'), ('n4', 'n1', 'n4_has_3_n1'), ('n4', 'n2', 'n4_has_0_n2'), ('n4', 'n2', 'n4_has_1_n2'), ('n4', 'n2', 'n4_has_2_n2'), ('n4', 'n3', 'n4_has_0_n3'), ('n4', 'n3', 'n4_has_1_n3'), ('n4', 'g', 'n4_in_g'), ('n4_improper', 'n1', 'n4_improper_has_0_n1'), ('n4_improper', 'n1', 'n4_improper_has_1_n1'), ('n4_improper', 'n1', 'n4_improper_has_2_n1'), ('n4_improper', 'n1', 'n4_improper_has_3_n1'), ('n4_improper', 'g', 'n4_improper_in_g'), ('nonbonded', 'n1', 'nonbonded_has_0_n1'), ('nonbonded', 'n1', 'nonbonded_has_1_n1'), ('nonbonded', 'g', 'nonbonded_in_g'), ('onefour', 'n1', 'onefour_has_0_n1'), ('onefour', 'n1', 'onefour_has_1_n1'), ('onefour', 'g', 'onefour_in_g')])"
      ]
     },
     "execution_count": 6,
     "metadata": {},
     "output_type": "execute_result"
    }
   ],
   "source": [
    "net(piptide.heterograph)\n",
    "net(ligand.heterograph)\n",
    "net(complex.heterograph)"
   ]
  },
  {
   "cell_type": "code",
   "execution_count": 7,
   "metadata": {},
   "outputs": [
    {
     "data": {
      "text/plain": [
       "NodeSpace(data={'sum_q': tensor([[0.]]), 'sum_s_inv': tensor([[-661.0970]], grad_fn=<GSpMMBackward>), 'sum_e_s_inv': tensor([[38.2593]], grad_fn=<GSpMMBackward>)})"
      ]
     },
     "execution_count": 7,
     "metadata": {},
     "output_type": "execute_result"
    }
   ],
   "source": [
    "piptide.nodes['g']"
   ]
  },
  {
   "cell_type": "code",
   "execution_count": 8,
   "metadata": {},
   "outputs": [],
   "source": [
    "class AtomPartialChargeArcFxn(oegrapheme.OESurfaceArcFxnBase):\n",
    "    def __init__(self, colorg, g):\n",
    "        oegrapheme.OESurfaceArcFxnBase.__init__(self)\n",
    "        self.colorg = colorg\n",
    "        self.g = g\n",
    "\n",
    "    def __call__(self, image, arc):\n",
    "        adisp = arc.GetAtomDisplay()\n",
    "        if adisp is None or not adisp.IsVisible():\n",
    "            return False\n",
    "\n",
    "        atom = adisp.GetAtom()\n",
    "        if atom is None:\n",
    "            return False\n",
    "\n",
    "        idx = atom.GetIdx()\n",
    "        charge = self.g.nodes['n1'].data['q_hat'][idx].item()\n",
    "        if charge == 0.0:\n",
    "            return True\n",
    "        color = self.colorg.GetColorAt(charge)\n",
    "\n",
    "        pen = oedepict.OEPen()\n",
    "        pen.SetForeColor(color)\n",
    "        pen.SetLineWidth(2.0)\n",
    "\n",
    "        center = arc.GetCenter()\n",
    "        radius = arc.GetRadius()\n",
    "        bAngle = arc.GetBgnAngle()\n",
    "        eAngle = arc.GetEndAngle()\n",
    "\n",
    "        edgeAngle = 5.0\n",
    "        dir = oegrapheme.OEPatternDirection_Outside\n",
    "        patternAngle = 10.0\n",
    "        oegrapheme.OEDrawBrickRoadSurfaceArc(image, center, bAngle, eAngle, radius, pen,\n",
    "                                             edgeAngle, dir, patternAngle)\n",
    "        return True\n",
    "\n",
    "    def CreateCopy(self):\n",
    "        return AtomPartialChargeArcFxn(self.colorg, self.g).__disown__()"
   ]
  },
  {
   "cell_type": "code",
   "execution_count": 9,
   "metadata": {},
   "outputs": [],
   "source": [
    "class GetAtomLabel(oedepict.OEDisplayAtomPropBase):\n",
    "    def __init__(self, g):\n",
    "        oedepict.OEDisplayAtomPropBase.__init__(self)\n",
    "        self.g = g\n",
    "\n",
    "    def __call__(self, atom):\n",
    "        idx = atom.GetIdx()\n",
    "        charge = self.g.nodes['n1'].data['q_hat'][idx].item()\n",
    "        return \"%.2f\" % charge\n",
    "\n",
    "    def CreateCopy(self):\n",
    "        copy = GetAtomLabel(g=self.g)\n",
    "        return copy.__disown__()"
   ]
  },
  {
   "cell_type": "code",
   "execution_count": 10,
   "metadata": {},
   "outputs": [],
   "source": [
    "class GetBondEq(oedepict.OEDisplayBondPropBase):\n",
    "    def __init__(self, g):\n",
    "        oedepict.OEDisplayBondPropBase.__init__(self)\n",
    "        self.g = g\n",
    "\n",
    "    def __call__(self, bond):\n",
    "        bond_idx = bond.GetIdx()\n",
    "        eq = 0.529177 * g.heterograph.nodes['n2'].data['eq'].flatten()[bond_idx]\n",
    "        return \"%.2f\" % eq\n",
    "\n",
    "    def CreateCopy(self):\n",
    "        copy = GetBondEq(g=self.g)\n",
    "        return copy.__disown__()"
   ]
  },
  {
   "cell_type": "code",
   "execution_count": 11,
   "metadata": {},
   "outputs": [],
   "source": [
    "for name in [\"piptide\", \"ligand\", \"complex\"]:\n",
    "    g = vars()[name]\n",
    "    net(g.heterograph)\n",
    "    opts = oedepict.OE2DMolDisplayOptions(1000, 1000, oedepict.OEScale_AutoScale)\n",
    "    mol = g.mol.to_openeye()\n",
    "    oechem.OEMMFFAtomTypes(mol)\n",
    "    oechem.OEMMFF94PartialCharges(mol)\n",
    "    oedepict.OEPrepareDepiction(mol)\n",
    "    oechem.OETriposAtomTypeNames(mol)\n",
    "    opts.SetAtomPropertyFunctor(GetAtomLabel(g=g))\n",
    "    # opts.SetBondPropertyFunctor(GetBondEq(g=g))\n",
    "    # opts.SetBondPropLabelFont(oedepict.OEFont(oechem.OEDarkBlue))\n",
    "    disp = oedepict.OE2DMolDisplay(mol, opts)\n",
    "    coloranion = oechem.OEColorStop(-1.0, oechem.OEColor(oechem.OEDarkRed))\n",
    "    colorcation = oechem.OEColorStop(+1.0, oechem.OEColor(oechem.OEDarkBlue))\n",
    "    colorg = oechem.OELinearColorGradient(coloranion, colorcation)\n",
    "    colorg.AddStop(oechem.OEColorStop(0.0, oechem.OEColor(oechem.OEWhite)))\n",
    "\n",
    "    arcfxn = AtomPartialChargeArcFxn(colorg, g=g)\n",
    "\n",
    "    for atom in mol.GetAtoms():\n",
    "        oegrapheme.OESetSurfaceArcFxn(mol, atom, arcfxn)\n",
    "    oegrapheme.OEDraw2DSurface(disp)\n",
    "    oedepict.OERenderMolecule(\"%s_charge.png\" % name, disp)"
   ]
  },
  {
   "cell_type": "code",
   "execution_count": 12,
   "metadata": {},
   "outputs": [],
   "source": [
    "for name in [\"piptide\", \"ligand\", \"complex\"]:\n",
    "    g = vars()[name]\n",
    "    net(g.heterograph)\n",
    "    opts = oedepict.OE2DMolDisplayOptions(1000, 1000, oedepict.OEScale_AutoScale)\n",
    "    mol = g.mol.to_openeye()\n",
    "    oechem.OEMMFFAtomTypes(mol)\n",
    "    oechem.OEMMFF94PartialCharges(mol)\n",
    "    oedepict.OEPrepareDepiction(mol)\n",
    "    oechem.OETriposAtomTypeNames(mol)\n",
    "    # opts.SetAtomPropertyFunctor(GetAtomLabel(g=g))\n",
    "    opts.SetBondPropertyFunctor(GetBondEq(g=g))\n",
    "    opts.SetBondPropLabelFont(oedepict.OEFont(oechem.OEDarkBlue))\n",
    "    disp = oedepict.OE2DMolDisplay(mol, opts)\n",
    "    coloranion = oechem.OEColorStop(-1.0, oechem.OEColor(oechem.OEDarkRed))\n",
    "    colorcation = oechem.OEColorStop(+1.0, oechem.OEColor(oechem.OEDarkBlue))\n",
    "    colorg = oechem.OELinearColorGradient(coloranion, colorcation)\n",
    "    colorg.AddStop(oechem.OEColorStop(0.0, oechem.OEColor(oechem.OEWhite)))\n",
    "\n",
    "    #     arcfxn = AtomPartialChargeArcFxn(colorg, g=g)\n",
    "\n",
    "    #     for atom in mol.GetAtoms():\n",
    "    #         oegrapheme.OESetSurfaceArcFxn(mol, atom, arcfxn)\n",
    "    #     oegrapheme.OEDraw2DSurface(disp)\n",
    "    oedepict.OERenderMolecule(\"%s_bond.png\" % name, disp)"
   ]
  },
  {
   "cell_type": "code",
   "execution_count": null,
   "metadata": {},
   "outputs": [],
   "source": [
    "from openeye import oechem, oedepict\n",
    "mol = oechem.OEGraphMol()\n",
    "oechem.OESmilesToMol(mol, \"CCC\")\n",
    "oedepict.OEPrepareDepiction(mol)\n",
    "opts = oedepict.OE2DMolDisplayOptions(30, 30, oedepict.OEScale_AutoScale)\n",
    "disp = oedepict.OE2DMolDisplay(mol, opts)\n",
    "oedepict.OERenderMolecule(\"test.png\", disp)"
   ]
  },
  {
   "cell_type": "code",
   "execution_count": null,
   "metadata": {},
   "outputs": [],
   "source": []
  }
 ],
 "metadata": {
  "kernelspec": {
   "display_name": "Python 3 (ipykernel)",
   "language": "python",
   "name": "python3"
  },
  "language_info": {
   "codemirror_mode": {
    "name": "ipython",
    "version": 3
   },
   "file_extension": ".py",
   "mimetype": "text/x-python",
   "name": "python",
   "nbconvert_exporter": "python",
   "pygments_lexer": "ipython3",
   "version": "3.7.11"
  }
 },
 "nbformat": 4,
 "nbformat_minor": 4
}
